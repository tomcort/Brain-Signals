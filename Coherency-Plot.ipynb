{
 "cells": [
  {
   "cell_type": "code",
   "execution_count": 1,
   "id": "innovative-wedding",
   "metadata": {},
   "outputs": [
    {
     "name": "stdout",
     "output_type": "stream",
     "text": [
      "Directory changed to\n",
      "C:\\Users\\HP\\Desktop\\Rescate\\U\\Decimo semestre\\Practica profesional\n"
     ]
    }
   ],
   "source": [
    "#!/usr/bin/env python\n",
    "# coding: utf-8\n",
    "\n",
    "### Importing required modules\n",
    "import os\n",
    "import sys\n",
    "\n",
    "import time\n",
    "\n",
    "import numpy as np\n",
    "from scipy import signal\n",
    "import pandas as pd\n",
    "\n",
    "import matplotlib.pyplot as plt\n",
    "from ipywidgets import interactive\n",
    "import ipywidgets as widgets\n",
    "import seaborn as sns\n",
    "%matplotlib inline\n",
    "\n",
    "# Change path\n",
    "abspath = os.path.abspath(\"\")\n",
    "dname = os.path.dirname(abspath)\n",
    "os.chdir(dname)\n",
    "print(\"Directory changed to\\n{}\".format(dname))\n",
    "sys.path.append('Brain-Signals/modules/')\n",
    "\n",
    "import Functions as fnc"
   ]
  },
  {
   "cell_type": "code",
   "execution_count": 2,
   "id": "verbal-chain",
   "metadata": {},
   "outputs": [],
   "source": [
    "### List of animals to process\n",
    "IDs = ['ID1597', 'ID1659']\n",
    "#, 'SERT1678', 'SERT1908', 'SERT1984', 'SERT1985', 'SERT2014', 'SERT1668', 'SERT1665', 'SERT2018', 'SERT2024', 'SERT2013']\n",
    "\n",
    "### Filter parameters. You can add more frequency bands (lowcuts and highcuts in Hz)\n",
    "filter_parameters = {'theta': {'N': 2, 'lowcut': 4,  'highcut': 20}} "
   ]
  },
  {
   "cell_type": "code",
   "execution_count": 5,
   "id": "impressed-repair",
   "metadata": {},
   "outputs": [
    {
     "name": "stdout",
     "output_type": "stream",
     "text": [
      "\n",
      "Loading mouse ID1597...\n",
      "theta Band \n",
      "Stationary Coherency shape: (4, 32, 32, 126)\n",
      "Frequency shape: (126,) Frequency max: 20.0\n",
      "Time-dependent Coherency shape: (4, 32, 32, 126, 123)\n",
      "Frequency domain shape (126,) Frequency max: 20.0\n",
      "\n",
      "Loading mouse ID1659...\n",
      "theta Band \n",
      "Stationary Coherency shape: (9, 32, 32, 126)\n",
      "Frequency shape: (126,) Frequency max: 20.0\n",
      "Time-dependent Coherency shape: (9, 32, 32, 126, 123)\n",
      "Frequency domain shape (126,) Frequency max: 20.0\n"
     ]
    }
   ],
   "source": [
    "CohysID = dict()\n",
    "\n",
    "for ID in IDs:\n",
    "    print('\\nLoading mouse {}...'.format(ID))\n",
    "    Cohys = dict()\n",
    "    for band in filter_parameters.keys():\n",
    "        print(f\"{band} Band \")\n",
    "        epochs_dir = 'Brain-Signals/DATA/Cohy/'\n",
    "        \n",
    "        Cohys[band] = (np.load(f'{epochs_dir}{ID}_{band}_freq.npy'),\\\n",
    "        fnc.loadsplitdata(f'{epochs_dir}{ID}_{band}_Cohy.npy', 32),\\\n",
    "        np.load(f'Brain-Signals/DATA/Cohy/{ID}_{band}_Tfreq.npy'),\\\n",
    "        fnc.loadsplitdata(f'{epochs_dir}{ID}_{band}_TCohy.npy', 32))\n",
    "         \n",
    "        print(f\"Stationary Coherency shape: {Cohys[band][1].shape}\")\n",
    "        print(f\"Frequency shape: {Cohys[band][0].shape} Frequency max: {Cohys[band][0][-1]}\")\n",
    "        print(f\"Time-dependent Coherency shape: {Cohys[band][3].shape}\")\n",
    "        print(f\"Frequency domain shape {Cohys[band][2].shape} Frequency max: {Cohys[band][2][-1]}\")\n",
    "    CohysID[ID] = Cohys"
   ]
  },
  {
   "cell_type": "markdown",
   "id": "retained-template",
   "metadata": {},
   "source": [
    "# Gráficos para la Coherency\n",
    "\n",
    "En esta sección se replicarán los gráficos utilizados en [Nolte2004](https://pubmed.ncbi.nlm.nih.gov/15351371/) y en [Adhikari2009](https://pubmed.ncbi.nlm.nih.gov/20152131/)."
   ]
  },
  {
   "cell_type": "markdown",
   "id": "figured-finnish",
   "metadata": {},
   "source": [
    "## Coh y iCoh estacionaria para una frecuencia fija\n",
    "\n",
    "Para una determinada frecuencia graficaremos la coherencia y la parte imaginaría de la frecuencia entre los distintos canales como en las figuras 1,3 y 4 de Nolte2014"
   ]
  },
  {
   "cell_type": "code",
   "execution_count": 6,
   "id": "provincial-computer",
   "metadata": {},
   "outputs": [],
   "source": [
    "ID1 = IDs[1]\n",
    "band = \"theta\"\n",
    "Auxcohy1 = CohysID[ID1][band]"
   ]
  },
  {
   "cell_type": "code",
   "execution_count": 7,
   "id": "external-objective",
   "metadata": {},
   "outputs": [],
   "source": [
    "def Stat_cohy_f(nf, epoch):\n",
    "    # Labels of matrix\n",
    "    label_mconf = np.arange(CohysID[ID1][band][1].shape[1]) + 1 \n",
    "    \n",
    "    Coh = np.abs(CohysID[ID1][band][1][epoch,:,:,nf])\n",
    "    iCoh = np.imag(CohysID[ID1][band][1][epoch,:,:,nf])\n",
    "    f = CohysID[ID1][band][0]\n",
    "    \n",
    "    df_Coh = pd.DataFrame(Coh, label_mconf, label_mconf)\n",
    "    df_iCoh = pd.DataFrame(iCoh, label_mconf, label_mconf)\n",
    "    \n",
    "    plt.figure(figsize=(25,10))\n",
    "    plt.suptitle(f\"Epoch {epoch+1} - Frequency = {f[nf]:.2f}\\n\\n\", fontsize= \"xx-large\")\n",
    "    plt.subplot(1,2,1)\n",
    "    sns.set(font_scale=1) # for label size\n",
    "    sns.heatmap(df_Coh, cmap=\"viridis\", fmt=\".2f\") # Para anotar annot=True, annot_kws={\"size\": 10}\n",
    "    \n",
    "    plt.title(f\"Coherence between channels\\n\", fontsize= \"xx-large\")\n",
    "    plt.ylabel('Channels', fontsize = \"x-large\")\n",
    "    plt.xlabel('Channels', fontsize = \"x-large\")\n",
    "    \n",
    "    plt.subplot(1,2,2)\n",
    "    sns.set(font_scale=1) # for label size\n",
    "    sns.heatmap(df_iCoh, cmap=\"viridis\", fmt=\".2f\") # Para anotar annot=True, annot_kws={\"size\": 10}\n",
    "    \n",
    "    plt.title(f\"Imaginary part of Coherency between channels\\n\", fontsize= \"xx-large\")\n",
    "    plt.ylabel('Channels', fontsize = \"x-large\")\n",
    "    plt.xlabel('Channels', fontsize = \"x-large\")\n",
    "    \n",
    "    plt.show()"
   ]
  },
  {
   "cell_type": "code",
   "execution_count": 8,
   "id": "center-ethernet",
   "metadata": {},
   "outputs": [],
   "source": [
    "iplt_stCohyf = interactive(Stat_cohy_f, nf = (0,Auxcohy1[0].shape[0]-1, 1), epoch =(0, Auxcohy1[1].shape[0]-1 , 1))"
   ]
  },
  {
   "cell_type": "code",
   "execution_count": 9,
   "id": "regulated-professor",
   "metadata": {},
   "outputs": [
    {
     "data": {
      "application/vnd.jupyter.widget-view+json": {
       "model_id": "bc5a30fa60be49398adb13f4244ff718",
       "version_major": 2,
       "version_minor": 0
      },
      "text/plain": [
       "interactive(children=(IntSlider(value=62, description='nf', max=125), IntSlider(value=4, description='epoch', …"
      ]
     },
     "metadata": {},
     "output_type": "display_data"
    }
   ],
   "source": [
    "iplt_stCohyf"
   ]
  },
  {
   "cell_type": "markdown",
   "id": "varying-rabbit",
   "metadata": {},
   "source": [
    "## Coh y iCoh estacionaria entre 2 canales: Dependencia de la frecuencia "
   ]
  },
  {
   "cell_type": "markdown",
   "id": "center-rebel",
   "metadata": {},
   "source": [
    "En esta sección se replicarán el gráfico C de la figura 1 de Adhikari2009"
   ]
  },
  {
   "cell_type": "code",
   "execution_count": 10,
   "id": "coastal-prize",
   "metadata": {},
   "outputs": [],
   "source": [
    "ID2 = IDs[0]\n",
    "band = \"theta\"\n",
    "Auxcohy2 = CohysID[ID2][band]"
   ]
  },
  {
   "cell_type": "code",
   "execution_count": 11,
   "id": "exceptional-manner",
   "metadata": {},
   "outputs": [],
   "source": [
    "def Stat_cohy(ch1,ch2, epoch):\n",
    "    # Labels of matrix\n",
    "    \n",
    "    Coh = np.abs(CohysID[ID2][band][1][epoch,ch1,ch2,:])\n",
    "    iCoh = np.imag(CohysID[ID2][band][1][epoch,ch1,ch2,:])\n",
    "    f = CohysID[ID2][band][0]\n",
    "    \n",
    "    plt.figure(figsize=(25,10))\n",
    "    \n",
    "    plt.suptitle(f\"Epoch {epoch+1} - Channels {ch1+1} and {ch2+1}\\n\\n\", fontsize= \"xx-large\")\n",
    "    \n",
    "    plt.subplot(1,2,1)\n",
    "    plt.plot(f, Coh)\n",
    "    \n",
    "    plt.title(f\"Coherence\\n\", fontsize= \"xx-large\")\n",
    "    plt.ylabel('Coherence', fontsize = \"x-large\")\n",
    "    plt.xlabel('Frequency', fontsize = \"x-large\")\n",
    "    \n",
    "    plt.subplot(1,2,2)\n",
    "    plt.plot(f,iCoh)\n",
    "    \n",
    "    plt.title(f\"Imaginary part of Coherency\\n\", fontsize= \"xx-large\")\n",
    "    plt.ylabel('Im. of coherency', fontsize = \"x-large\")\n",
    "    plt.xlabel('Frequency', fontsize = \"x-large\")\n",
    "    \n",
    "    plt.show()"
   ]
  },
  {
   "cell_type": "code",
   "execution_count": 12,
   "id": "cathedral-child",
   "metadata": {},
   "outputs": [
    {
     "data": {
      "application/vnd.jupyter.widget-view+json": {
       "model_id": "292f71aabf7e4d8da0a0a9ad74fe9e6b",
       "version_major": 2,
       "version_minor": 0
      },
      "text/plain": [
       "interactive(children=(IntSlider(value=15, description='ch1', max=31), IntSlider(value=15, description='ch2', m…"
      ]
     },
     "metadata": {},
     "output_type": "display_data"
    }
   ],
   "source": [
    "iplt_stCohyf = interactive(Stat_cohy, ch1 = (0,Auxcohy2[1].shape[1]-1, 1), ch2 = (0,Auxcohy2[1].shape[1]-1, 1), epoch = (0,Auxcohy2[1].shape[0]-1, 1))\n",
    "iplt_stCohyf "
   ]
  },
  {
   "cell_type": "markdown",
   "id": "likely-lobby",
   "metadata": {},
   "source": [
    "## Evolución temporal de Coh y iCoh "
   ]
  },
  {
   "cell_type": "markdown",
   "id": "incident-single",
   "metadata": {},
   "source": [
    "En este sección se replicarán el gráfico C de la figura 7 de Adhikari2009 (también figura 5 de Nolte2004)"
   ]
  },
  {
   "cell_type": "code",
   "execution_count": 13,
   "id": "reflected-toddler",
   "metadata": {},
   "outputs": [],
   "source": [
    "ID = IDs[0]\n",
    "band = \"theta\"\n",
    "Auxcohy = CohysID[ID][band]"
   ]
  },
  {
   "cell_type": "code",
   "execution_count": 14,
   "id": "noble-ridge",
   "metadata": {},
   "outputs": [],
   "source": [
    "def Time_cohy(ch1,ch2, epoch):\n",
    "    # Labels of matrix\n",
    "    \n",
    "    Coh = np.abs(CohysID[ID][band][3][epoch,ch1,ch2,:,:])\n",
    "    iCoh = np.imag(CohysID[ID][band][3][epoch,ch1,ch2,:,:])\n",
    "    \n",
    "    df_Coh = pd.DataFrame(Coh)\n",
    "    df_iCoh = pd.DataFrame(iCoh)\n",
    "    \n",
    "    plt.figure(figsize=(25,8))\n",
    "    plt.suptitle(f\"Epoch {epoch+1} - Channels {ch1+1} and {ch2+1}\", fontsize= \"xx-large\", y=1.1)\n",
    "    \n",
    "    plt.subplot(1,2,1)\n",
    "    #sns.set(font_scale=1) # for label size\n",
    "    #sns.heatmap(df_Coh, fmt=\".2f\", xticklabels = False, yticklabels = False, vmin = Coh.min() , vmax= Coh.max()) # Para anotar annot=True, annot_kws={\"size\": 10}\n",
    "    plt.imshow(Coh[::-1,:], cmap='turbo', interpolation = \"mitchell\")\n",
    "    plt.colorbar()\n",
    "    plt.title(f\"Coherence between channels\\n\", fontsize= \"xx-large\")\n",
    "    plt.ylabel('Frequency', fontsize = \"x-large\")\n",
    "    plt.xlabel('Time', fontsize = \"x-large\")\n",
    "    \n",
    "    plt.subplot(1,2,2)\n",
    "    #sns.set(font_scale=1) # for label size\n",
    "    #sns.heatmap(df_iCoh, cmap=\"viridis\", fmt=\".2f\", xticklabels = False, yticklabels = False) # Para anotar annot=True, annot_kws={\"size\": 10}\n",
    "    \n",
    "    #https://matplotlib.org/3.3.3/gallery/images_contours_and_fields/interpolation_methods.html#sphx-glr-gallery-images-contours-and-fields-interpolation-methods-py\n",
    "    plt.imshow(iCoh[::-1,:], cmap='turbo', interpolation = \"mitchell\")\n",
    "    plt.colorbar()\n",
    "\n",
    "    plt.title(f\"Imaginary part of Coherency between channels\\n\", fontsize= \"xx-large\")\n",
    "    plt.ylabel('Frequency', fontsize = \"x-large\")\n",
    "    plt.xlabel('Time', fontsize = \"x-large\")\n",
    "    \n",
    "    plt.show()"
   ]
  },
  {
   "cell_type": "code",
   "execution_count": 15,
   "id": "encouraging-protein",
   "metadata": {},
   "outputs": [
    {
     "data": {
      "application/vnd.jupyter.widget-view+json": {
       "model_id": "6043bf7ff41d42a7a931cc6065dd3710",
       "version_major": 2,
       "version_minor": 0
      },
      "text/plain": [
       "interactive(children=(IntSlider(value=15, description='ch1', max=31), IntSlider(value=15, description='ch2', m…"
      ]
     },
     "metadata": {},
     "output_type": "display_data"
    }
   ],
   "source": [
    "iplt_tCohyf = interactive(Time_cohy, ch1 = (0,Auxcohy[1].shape[1]-1, 1), ch2 = (0,Auxcohy[1].shape[1]-1, 1), epoch = (0,Auxcohy[1].shape[0]-1, 1))\n",
    "iplt_tCohyf "
   ]
  },
  {
   "cell_type": "code",
   "execution_count": null,
   "id": "blocked-mortgage",
   "metadata": {},
   "outputs": [],
   "source": []
  }
 ],
 "metadata": {
  "kernelspec": {
   "display_name": "Python 3",
   "language": "python",
   "name": "python3"
  },
  "language_info": {
   "codemirror_mode": {
    "name": "ipython",
    "version": 3
   },
   "file_extension": ".py",
   "mimetype": "text/x-python",
   "name": "python",
   "nbconvert_exporter": "python",
   "pygments_lexer": "ipython3",
   "version": "3.7.9"
  }
 },
 "nbformat": 4,
 "nbformat_minor": 5
}
